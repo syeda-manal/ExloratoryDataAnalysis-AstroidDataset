{
 "cells": [
  {
   "cell_type": "markdown",
   "metadata": {},
   "source": [
    "# Project Title - Asteroid Dataset\n",
    "\n",
    "I have collected this Dataset from which is officially maintained by Jet Propulsion Laboratory of California Institute of Technology which is an organization under NASA. In this Dataset all kinds of Data related to Asteroid is included. This Dataset is publicly available in their website. \n",
    "Website Link- [JPL Small-Body Database Search Engine](https://ssd.jpl.nasa.gov/sbdb_query.cgi)\n",
    "You can also mention about the course [Data Analysis with Python: Zero to Pandas](zerotopandas.com), and what you've learned from it."
   ]
  },
  {
   "cell_type": "markdown",
   "metadata": {},
   "source": [
    "Let us save and upload our work to Jovian before continuing."
   ]
  },
  {
   "cell_type": "code",
   "execution_count": 4,
   "metadata": {},
   "outputs": [],
   "source": [
    "!pip install jovian opendatasets --upgrade --quiet\n"
   ]
  },
  {
   "cell_type": "code",
   "execution_count": 6,
   "metadata": {},
   "outputs": [
    {
     "name": "stdout",
     "output_type": "stream",
     "text": [
      "Please provide your Kaggle credentials to download this dataset. Learn more: http://bit.ly/kaggle-creds\n",
      "Your Kaggle username: syedamanal\n",
      "Your Kaggle Key: ········\n"
     ]
    },
    {
     "name": "stderr",
     "output_type": "stream",
     "text": [
      "  3%|▎         | 5.00M/182M [00:00<00:04, 38.1MB/s]"
     ]
    },
    {
     "name": "stdout",
     "output_type": "stream",
     "text": [
      "Downloading asteroid-dataset.zip to ./asteroid-dataset\n"
     ]
    },
    {
     "name": "stderr",
     "output_type": "stream",
     "text": [
      "100%|██████████| 182M/182M [00:02<00:00, 84.5MB/s] \n"
     ]
    },
    {
     "name": "stdout",
     "output_type": "stream",
     "text": [
      "\n"
     ]
    }
   ],
   "source": [
    "dataset_url = 'https://www.kaggle.com/sakhawat18/asteroid-dataset' \n",
    "import opendatasets as od\n",
    "od.download(dataset_url)"
   ]
  },
  {
   "cell_type": "code",
   "execution_count": null,
   "metadata": {},
   "outputs": [],
   "source": [
    "import pandas as pd\n",
    "# file_path = './asteroid-dataset/dataset.csv'\n",
    "asteroid_df= pd.read_csv('./asteroid-dataset/dataset.csv')\n",
    "project_name = \"zerotopandas-eda-asteroid-dataset\" # change this (use lowercase letters and hyphens only)\n"
   ]
  },
  {
   "cell_type": "code",
   "execution_count": null,
   "metadata": {},
   "outputs": [
    {
     "data": {
      "application/javascript": [
       "window.require && require([\"base/js/namespace\"],function(Jupyter){Jupyter.notebook.save_checkpoint()})"
      ],
      "text/plain": [
       "<IPython.core.display.Javascript object>"
      ]
     },
     "metadata": {},
     "output_type": "display_data"
    },
    {
     "name": "stdout",
     "output_type": "stream",
     "text": [
      "[jovian] Attempting to save notebook..\u001b[0m\n",
      "[jovian] Updating notebook \"manal-kaleem/zerotopandas-eda-asteroid-dataset\" on https://jovian.ai\u001b[0m\n",
      "[jovian] Uploading notebook..\u001b[0m\n",
      "[jovian] Uploading additional files...\u001b[0m\n"
     ]
    }
   ],
   "source": [
    "!pip install jovian --upgrade -q\n",
    "import jovian\n",
    "jovian.commit(project=project_name)"
   ]
  },
  {
   "cell_type": "markdown",
   "metadata": {},
   "source": [
    "## Data Preparation and Cleaning\n",
    "\n",
    "Let's start by first looking into our dataset to get some insight\n"
   ]
  },
  {
   "cell_type": "code",
   "execution_count": 1,
   "metadata": {},
   "outputs": [
    {
     "ename": "NameError",
     "evalue": "name 'asteroid_df' is not defined",
     "output_type": "error",
     "traceback": [
      "\u001b[0;31m---------------------------------------------------------------------------\u001b[0m",
      "\u001b[0;31mNameError\u001b[0m                                 Traceback (most recent call last)",
      "\u001b[0;32m<ipython-input-1-3ab948c6102f>\u001b[0m in \u001b[0;36m<module>\u001b[0;34m\u001b[0m\n\u001b[0;32m----> 1\u001b[0;31m \u001b[0masteroid_df\u001b[0m\u001b[0;34m.\u001b[0m\u001b[0mshape\u001b[0m\u001b[0;34m\u001b[0m\u001b[0;34m\u001b[0m\u001b[0m\n\u001b[0m",
      "\u001b[0;31mNameError\u001b[0m: name 'asteroid_df' is not defined"
     ]
    }
   ],
   "source": [
    "asteroid_df.shape"
   ]
  },
  {
   "cell_type": "markdown",
   "metadata": {},
   "source": [
    "**Our dataset has record for 45 features of 958524 asteroids**"
   ]
  },
  {
   "cell_type": "code",
   "execution_count": 3,
   "metadata": {},
   "outputs": [
    {
     "data": {
      "text/html": [
       "<div>\n",
       "<style scoped>\n",
       "    .dataframe tbody tr th:only-of-type {\n",
       "        vertical-align: middle;\n",
       "    }\n",
       "\n",
       "    .dataframe tbody tr th {\n",
       "        vertical-align: top;\n",
       "    }\n",
       "\n",
       "    .dataframe thead th {\n",
       "        text-align: right;\n",
       "    }\n",
       "</style>\n",
       "<table border=\"1\" class=\"dataframe\">\n",
       "  <thead>\n",
       "    <tr style=\"text-align: right;\">\n",
       "      <th></th>\n",
       "      <th>id</th>\n",
       "      <th>spkid</th>\n",
       "      <th>full_name</th>\n",
       "      <th>pdes</th>\n",
       "      <th>name</th>\n",
       "      <th>prefix</th>\n",
       "      <th>neo</th>\n",
       "      <th>pha</th>\n",
       "      <th>H</th>\n",
       "      <th>diameter</th>\n",
       "      <th>...</th>\n",
       "      <th>sigma_i</th>\n",
       "      <th>sigma_om</th>\n",
       "      <th>sigma_w</th>\n",
       "      <th>sigma_ma</th>\n",
       "      <th>sigma_ad</th>\n",
       "      <th>sigma_n</th>\n",
       "      <th>sigma_tp</th>\n",
       "      <th>sigma_per</th>\n",
       "      <th>class</th>\n",
       "      <th>rms</th>\n",
       "    </tr>\n",
       "  </thead>\n",
       "  <tbody>\n",
       "    <tr>\n",
       "      <th>0</th>\n",
       "      <td>a0000001</td>\n",
       "      <td>2000001</td>\n",
       "      <td>1 Ceres</td>\n",
       "      <td>1</td>\n",
       "      <td>Ceres</td>\n",
       "      <td>NaN</td>\n",
       "      <td>N</td>\n",
       "      <td>N</td>\n",
       "      <td>3.40</td>\n",
       "      <td>939.400</td>\n",
       "      <td>...</td>\n",
       "      <td>4.608900e-09</td>\n",
       "      <td>6.168800e-08</td>\n",
       "      <td>6.624800e-08</td>\n",
       "      <td>7.820700e-09</td>\n",
       "      <td>1.111300e-11</td>\n",
       "      <td>1.196500e-12</td>\n",
       "      <td>3.782900e-08</td>\n",
       "      <td>9.415900e-09</td>\n",
       "      <td>MBA</td>\n",
       "      <td>0.43301</td>\n",
       "    </tr>\n",
       "    <tr>\n",
       "      <th>1</th>\n",
       "      <td>a0000002</td>\n",
       "      <td>2000002</td>\n",
       "      <td>2 Pallas</td>\n",
       "      <td>2</td>\n",
       "      <td>Pallas</td>\n",
       "      <td>NaN</td>\n",
       "      <td>N</td>\n",
       "      <td>N</td>\n",
       "      <td>4.20</td>\n",
       "      <td>545.000</td>\n",
       "      <td>...</td>\n",
       "      <td>3.469400e-06</td>\n",
       "      <td>6.272400e-06</td>\n",
       "      <td>9.128200e-06</td>\n",
       "      <td>8.859100e-06</td>\n",
       "      <td>4.961300e-09</td>\n",
       "      <td>4.653600e-10</td>\n",
       "      <td>4.078700e-05</td>\n",
       "      <td>3.680700e-06</td>\n",
       "      <td>MBA</td>\n",
       "      <td>0.35936</td>\n",
       "    </tr>\n",
       "    <tr>\n",
       "      <th>2</th>\n",
       "      <td>a0000003</td>\n",
       "      <td>2000003</td>\n",
       "      <td>3 Juno</td>\n",
       "      <td>3</td>\n",
       "      <td>Juno</td>\n",
       "      <td>NaN</td>\n",
       "      <td>N</td>\n",
       "      <td>N</td>\n",
       "      <td>5.33</td>\n",
       "      <td>246.596</td>\n",
       "      <td>...</td>\n",
       "      <td>3.223100e-06</td>\n",
       "      <td>1.664600e-05</td>\n",
       "      <td>1.772100e-05</td>\n",
       "      <td>8.110400e-06</td>\n",
       "      <td>4.363900e-09</td>\n",
       "      <td>4.413400e-10</td>\n",
       "      <td>3.528800e-05</td>\n",
       "      <td>3.107200e-06</td>\n",
       "      <td>MBA</td>\n",
       "      <td>0.33848</td>\n",
       "    </tr>\n",
       "    <tr>\n",
       "      <th>3</th>\n",
       "      <td>a0000004</td>\n",
       "      <td>2000004</td>\n",
       "      <td>4 Vesta</td>\n",
       "      <td>4</td>\n",
       "      <td>Vesta</td>\n",
       "      <td>NaN</td>\n",
       "      <td>N</td>\n",
       "      <td>N</td>\n",
       "      <td>3.00</td>\n",
       "      <td>525.400</td>\n",
       "      <td>...</td>\n",
       "      <td>2.170600e-07</td>\n",
       "      <td>3.880800e-07</td>\n",
       "      <td>1.789300e-07</td>\n",
       "      <td>1.206800e-06</td>\n",
       "      <td>1.648600e-09</td>\n",
       "      <td>2.612500e-10</td>\n",
       "      <td>4.103700e-06</td>\n",
       "      <td>1.274900e-06</td>\n",
       "      <td>MBA</td>\n",
       "      <td>0.39980</td>\n",
       "    </tr>\n",
       "    <tr>\n",
       "      <th>4</th>\n",
       "      <td>a0000005</td>\n",
       "      <td>2000005</td>\n",
       "      <td>5 Astraea</td>\n",
       "      <td>5</td>\n",
       "      <td>Astraea</td>\n",
       "      <td>NaN</td>\n",
       "      <td>N</td>\n",
       "      <td>N</td>\n",
       "      <td>6.90</td>\n",
       "      <td>106.699</td>\n",
       "      <td>...</td>\n",
       "      <td>2.740800e-06</td>\n",
       "      <td>2.894900e-05</td>\n",
       "      <td>2.984200e-05</td>\n",
       "      <td>8.303800e-06</td>\n",
       "      <td>4.729000e-09</td>\n",
       "      <td>5.522700e-10</td>\n",
       "      <td>3.474300e-05</td>\n",
       "      <td>3.490500e-06</td>\n",
       "      <td>MBA</td>\n",
       "      <td>0.52191</td>\n",
       "    </tr>\n",
       "  </tbody>\n",
       "</table>\n",
       "<p>5 rows × 45 columns</p>\n",
       "</div>"
      ],
      "text/plain": [
       "         id    spkid       full_name pdes     name prefix neo pha     H  \\\n",
       "0  a0000001  2000001         1 Ceres    1    Ceres    NaN   N   N  3.40   \n",
       "1  a0000002  2000002        2 Pallas    2   Pallas    NaN   N   N  4.20   \n",
       "2  a0000003  2000003          3 Juno    3     Juno    NaN   N   N  5.33   \n",
       "3  a0000004  2000004         4 Vesta    4    Vesta    NaN   N   N  3.00   \n",
       "4  a0000005  2000005       5 Astraea    5  Astraea    NaN   N   N  6.90   \n",
       "\n",
       "   diameter  ...       sigma_i      sigma_om       sigma_w      sigma_ma  \\\n",
       "0   939.400  ...  4.608900e-09  6.168800e-08  6.624800e-08  7.820700e-09   \n",
       "1   545.000  ...  3.469400e-06  6.272400e-06  9.128200e-06  8.859100e-06   \n",
       "2   246.596  ...  3.223100e-06  1.664600e-05  1.772100e-05  8.110400e-06   \n",
       "3   525.400  ...  2.170600e-07  3.880800e-07  1.789300e-07  1.206800e-06   \n",
       "4   106.699  ...  2.740800e-06  2.894900e-05  2.984200e-05  8.303800e-06   \n",
       "\n",
       "       sigma_ad       sigma_n      sigma_tp     sigma_per  class      rms  \n",
       "0  1.111300e-11  1.196500e-12  3.782900e-08  9.415900e-09    MBA  0.43301  \n",
       "1  4.961300e-09  4.653600e-10  4.078700e-05  3.680700e-06    MBA  0.35936  \n",
       "2  4.363900e-09  4.413400e-10  3.528800e-05  3.107200e-06    MBA  0.33848  \n",
       "3  1.648600e-09  2.612500e-10  4.103700e-06  1.274900e-06    MBA  0.39980  \n",
       "4  4.729000e-09  5.522700e-10  3.474300e-05  3.490500e-06    MBA  0.52191  \n",
       "\n",
       "[5 rows x 45 columns]"
      ]
     },
     "execution_count": 3,
     "metadata": {},
     "output_type": "execute_result"
    }
   ],
   "source": [
    "asteroid_df.head()\n"
   ]
  },
  {
   "cell_type": "code",
   "execution_count": 5,
   "metadata": {},
   "outputs": [
    {
     "name": "stdout",
     "output_type": "stream",
     "text": [
      "<class 'pandas.core.frame.DataFrame'>\n",
      "RangeIndex: 958524 entries, 0 to 958523\n",
      "Data columns (total 45 columns):\n",
      " #   Column          Non-Null Count   Dtype  \n",
      "---  ------          --------------   -----  \n",
      " 0   id              958524 non-null  object \n",
      " 1   spkid           958524 non-null  int64  \n",
      " 2   full_name       958524 non-null  object \n",
      " 3   pdes            958524 non-null  object \n",
      " 4   name            22064 non-null   object \n",
      " 5   prefix          18 non-null      object \n",
      " 6   neo             958520 non-null  object \n",
      " 7   pha             938603 non-null  object \n",
      " 8   H               952261 non-null  float64\n",
      " 9   diameter        136209 non-null  float64\n",
      " 10  albedo          135103 non-null  float64\n",
      " 11  diameter_sigma  136081 non-null  float64\n",
      " 12  orbit_id        958524 non-null  object \n",
      " 13  epoch           958524 non-null  float64\n",
      " 14  epoch_mjd       958524 non-null  int64  \n",
      " 15  epoch_cal       958524 non-null  float64\n",
      " 16  equinox         958524 non-null  object \n",
      " 17  e               958524 non-null  float64\n",
      " 18  a               958524 non-null  float64\n",
      " 19  q               958524 non-null  float64\n",
      " 20  i               958524 non-null  float64\n",
      " 21  om              958524 non-null  float64\n",
      " 22  w               958524 non-null  float64\n",
      " 23  ma              958523 non-null  float64\n",
      " 24  ad              958520 non-null  float64\n",
      " 25  n               958524 non-null  float64\n",
      " 26  tp              958524 non-null  float64\n",
      " 27  tp_cal          958524 non-null  float64\n",
      " 28  per             958520 non-null  float64\n",
      " 29  per_y           958523 non-null  float64\n",
      " 30  moid            938603 non-null  float64\n",
      " 31  moid_ld         958397 non-null  float64\n",
      " 32  sigma_e         938602 non-null  float64\n",
      " 33  sigma_a         938602 non-null  float64\n",
      " 34  sigma_q         938602 non-null  float64\n",
      " 35  sigma_i         938602 non-null  float64\n",
      " 36  sigma_om        938602 non-null  float64\n",
      " 37  sigma_w         938602 non-null  float64\n",
      " 38  sigma_ma        938602 non-null  float64\n",
      " 39  sigma_ad        938598 non-null  float64\n",
      " 40  sigma_n         938602 non-null  float64\n",
      " 41  sigma_tp        938602 non-null  float64\n",
      " 42  sigma_per       938598 non-null  float64\n",
      " 43  class           958524 non-null  object \n",
      " 44  rms             958522 non-null  float64\n",
      "dtypes: float64(33), int64(2), object(10)\n",
      "memory usage: 329.1+ MB\n"
     ]
    }
   ],
   "source": [
    "asteroid_df.info()\n"
   ]
  },
  {
   "cell_type": "code",
   "execution_count": 6,
   "metadata": {},
   "outputs": [
    {
     "data": {
      "text/html": [
       "<div>\n",
       "<style scoped>\n",
       "    .dataframe tbody tr th:only-of-type {\n",
       "        vertical-align: middle;\n",
       "    }\n",
       "\n",
       "    .dataframe tbody tr th {\n",
       "        vertical-align: top;\n",
       "    }\n",
       "\n",
       "    .dataframe thead th {\n",
       "        text-align: right;\n",
       "    }\n",
       "</style>\n",
       "<table border=\"1\" class=\"dataframe\">\n",
       "  <thead>\n",
       "    <tr style=\"text-align: right;\">\n",
       "      <th></th>\n",
       "      <th>spkid</th>\n",
       "      <th>H</th>\n",
       "      <th>diameter</th>\n",
       "      <th>albedo</th>\n",
       "      <th>diameter_sigma</th>\n",
       "      <th>epoch</th>\n",
       "      <th>epoch_mjd</th>\n",
       "      <th>epoch_cal</th>\n",
       "      <th>e</th>\n",
       "      <th>a</th>\n",
       "      <th>...</th>\n",
       "      <th>sigma_q</th>\n",
       "      <th>sigma_i</th>\n",
       "      <th>sigma_om</th>\n",
       "      <th>sigma_w</th>\n",
       "      <th>sigma_ma</th>\n",
       "      <th>sigma_ad</th>\n",
       "      <th>sigma_n</th>\n",
       "      <th>sigma_tp</th>\n",
       "      <th>sigma_per</th>\n",
       "      <th>rms</th>\n",
       "    </tr>\n",
       "  </thead>\n",
       "  <tbody>\n",
       "    <tr>\n",
       "      <th>count</th>\n",
       "      <td>9.585240e+05</td>\n",
       "      <td>952261.000000</td>\n",
       "      <td>136209.000000</td>\n",
       "      <td>135103.000000</td>\n",
       "      <td>136081.000000</td>\n",
       "      <td>9.585240e+05</td>\n",
       "      <td>958524.000000</td>\n",
       "      <td>9.585240e+05</td>\n",
       "      <td>958524.000000</td>\n",
       "      <td>958524.000000</td>\n",
       "      <td>...</td>\n",
       "      <td>9.386020e+05</td>\n",
       "      <td>9.386020e+05</td>\n",
       "      <td>9.386020e+05</td>\n",
       "      <td>9.386020e+05</td>\n",
       "      <td>9.386020e+05</td>\n",
       "      <td>9.385980e+05</td>\n",
       "      <td>9.386020e+05</td>\n",
       "      <td>9.386020e+05</td>\n",
       "      <td>9.385980e+05</td>\n",
       "      <td>958522.000000</td>\n",
       "    </tr>\n",
       "    <tr>\n",
       "      <th>mean</th>\n",
       "      <td>3.810114e+06</td>\n",
       "      <td>16.906411</td>\n",
       "      <td>5.506429</td>\n",
       "      <td>0.130627</td>\n",
       "      <td>0.479184</td>\n",
       "      <td>2.458869e+06</td>\n",
       "      <td>58868.781950</td>\n",
       "      <td>2.019693e+07</td>\n",
       "      <td>0.156116</td>\n",
       "      <td>2.902143</td>\n",
       "      <td>...</td>\n",
       "      <td>1.982929e+01</td>\n",
       "      <td>1.168449e+00</td>\n",
       "      <td>5.310234e+00</td>\n",
       "      <td>1.370062e+06</td>\n",
       "      <td>1.369977e+06</td>\n",
       "      <td>2.131453e+01</td>\n",
       "      <td>5.060221e-02</td>\n",
       "      <td>4.312780e+08</td>\n",
       "      <td>8.525815e+04</td>\n",
       "      <td>0.561153</td>\n",
       "    </tr>\n",
       "    <tr>\n",
       "      <th>std</th>\n",
       "      <td>6.831541e+06</td>\n",
       "      <td>1.790405</td>\n",
       "      <td>9.425164</td>\n",
       "      <td>0.110323</td>\n",
       "      <td>0.782895</td>\n",
       "      <td>7.016716e+02</td>\n",
       "      <td>701.671573</td>\n",
       "      <td>1.930354e+04</td>\n",
       "      <td>0.092643</td>\n",
       "      <td>39.719503</td>\n",
       "      <td>...</td>\n",
       "      <td>2.903785e+03</td>\n",
       "      <td>1.282231e+02</td>\n",
       "      <td>1.333381e+03</td>\n",
       "      <td>9.158996e+08</td>\n",
       "      <td>9.158991e+08</td>\n",
       "      <td>7.197034e+03</td>\n",
       "      <td>9.814953e+00</td>\n",
       "      <td>2.953046e+11</td>\n",
       "      <td>2.767681e+07</td>\n",
       "      <td>2.745700</td>\n",
       "    </tr>\n",
       "    <tr>\n",
       "      <th>min</th>\n",
       "      <td>2.000001e+06</td>\n",
       "      <td>-1.100000</td>\n",
       "      <td>0.002500</td>\n",
       "      <td>0.001000</td>\n",
       "      <td>0.000500</td>\n",
       "      <td>2.425052e+06</td>\n",
       "      <td>25051.000000</td>\n",
       "      <td>1.927062e+07</td>\n",
       "      <td>0.000000</td>\n",
       "      <td>-14702.447872</td>\n",
       "      <td>...</td>\n",
       "      <td>1.956900e-11</td>\n",
       "      <td>4.608900e-09</td>\n",
       "      <td>6.168800e-08</td>\n",
       "      <td>6.624800e-08</td>\n",
       "      <td>7.820700e-09</td>\n",
       "      <td>1.111300e-11</td>\n",
       "      <td>1.196500e-12</td>\n",
       "      <td>3.782900e-08</td>\n",
       "      <td>9.415900e-09</td>\n",
       "      <td>0.000000</td>\n",
       "    </tr>\n",
       "    <tr>\n",
       "      <th>25%</th>\n",
       "      <td>2.239632e+06</td>\n",
       "      <td>16.100000</td>\n",
       "      <td>2.780000</td>\n",
       "      <td>0.053000</td>\n",
       "      <td>0.180000</td>\n",
       "      <td>2.459000e+06</td>\n",
       "      <td>59000.000000</td>\n",
       "      <td>2.020053e+07</td>\n",
       "      <td>0.092193</td>\n",
       "      <td>2.387835</td>\n",
       "      <td>...</td>\n",
       "      <td>1.462000e-07</td>\n",
       "      <td>6.095900e-06</td>\n",
       "      <td>3.619400e-05</td>\n",
       "      <td>5.755000e-05</td>\n",
       "      <td>2.573700e-05</td>\n",
       "      <td>2.340900e-08</td>\n",
       "      <td>2.768800e-09</td>\n",
       "      <td>1.110900e-04</td>\n",
       "      <td>1.794500e-05</td>\n",
       "      <td>0.518040</td>\n",
       "    </tr>\n",
       "    <tr>\n",
       "      <th>50%</th>\n",
       "      <td>2.479262e+06</td>\n",
       "      <td>16.900000</td>\n",
       "      <td>3.972000</td>\n",
       "      <td>0.079000</td>\n",
       "      <td>0.332000</td>\n",
       "      <td>2.459000e+06</td>\n",
       "      <td>59000.000000</td>\n",
       "      <td>2.020053e+07</td>\n",
       "      <td>0.145002</td>\n",
       "      <td>2.646969</td>\n",
       "      <td>...</td>\n",
       "      <td>2.271900e-07</td>\n",
       "      <td>8.688800e-06</td>\n",
       "      <td>6.642550e-05</td>\n",
       "      <td>1.047100e-04</td>\n",
       "      <td>4.900100e-05</td>\n",
       "      <td>4.359000e-08</td>\n",
       "      <td>4.638000e-09</td>\n",
       "      <td>2.230800e-04</td>\n",
       "      <td>3.501700e-05</td>\n",
       "      <td>0.566280</td>\n",
       "    </tr>\n",
       "    <tr>\n",
       "      <th>75%</th>\n",
       "      <td>3.752518e+06</td>\n",
       "      <td>17.714000</td>\n",
       "      <td>5.765000</td>\n",
       "      <td>0.190000</td>\n",
       "      <td>0.620000</td>\n",
       "      <td>2.459000e+06</td>\n",
       "      <td>59000.000000</td>\n",
       "      <td>2.020053e+07</td>\n",
       "      <td>0.200650</td>\n",
       "      <td>3.001932</td>\n",
       "      <td>...</td>\n",
       "      <td>6.583200e-07</td>\n",
       "      <td>1.591500e-05</td>\n",
       "      <td>1.609775e-04</td>\n",
       "      <td>3.114400e-04</td>\n",
       "      <td>1.718900e-04</td>\n",
       "      <td>1.196600e-07</td>\n",
       "      <td>1.124000e-08</td>\n",
       "      <td>8.139600e-04</td>\n",
       "      <td>9.775475e-05</td>\n",
       "      <td>0.613927</td>\n",
       "    </tr>\n",
       "    <tr>\n",
       "      <th>max</th>\n",
       "      <td>5.401723e+07</td>\n",
       "      <td>33.200000</td>\n",
       "      <td>939.400000</td>\n",
       "      <td>1.000000</td>\n",
       "      <td>140.000000</td>\n",
       "      <td>2.459000e+06</td>\n",
       "      <td>59000.000000</td>\n",
       "      <td>2.020053e+07</td>\n",
       "      <td>1.855356</td>\n",
       "      <td>33488.895955</td>\n",
       "      <td>...</td>\n",
       "      <td>1.015000e+06</td>\n",
       "      <td>5.533000e+04</td>\n",
       "      <td>1.199100e+06</td>\n",
       "      <td>8.845100e+11</td>\n",
       "      <td>8.845100e+11</td>\n",
       "      <td>5.509700e+06</td>\n",
       "      <td>7.698800e+03</td>\n",
       "      <td>2.853100e+14</td>\n",
       "      <td>1.910700e+10</td>\n",
       "      <td>2686.600000</td>\n",
       "    </tr>\n",
       "  </tbody>\n",
       "</table>\n",
       "<p>8 rows × 35 columns</p>\n",
       "</div>"
      ],
      "text/plain": [
       "              spkid              H       diameter         albedo  \\\n",
       "count  9.585240e+05  952261.000000  136209.000000  135103.000000   \n",
       "mean   3.810114e+06      16.906411       5.506429       0.130627   \n",
       "std    6.831541e+06       1.790405       9.425164       0.110323   \n",
       "min    2.000001e+06      -1.100000       0.002500       0.001000   \n",
       "25%    2.239632e+06      16.100000       2.780000       0.053000   \n",
       "50%    2.479262e+06      16.900000       3.972000       0.079000   \n",
       "75%    3.752518e+06      17.714000       5.765000       0.190000   \n",
       "max    5.401723e+07      33.200000     939.400000       1.000000   \n",
       "\n",
       "       diameter_sigma         epoch      epoch_mjd     epoch_cal  \\\n",
       "count   136081.000000  9.585240e+05  958524.000000  9.585240e+05   \n",
       "mean         0.479184  2.458869e+06   58868.781950  2.019693e+07   \n",
       "std          0.782895  7.016716e+02     701.671573  1.930354e+04   \n",
       "min          0.000500  2.425052e+06   25051.000000  1.927062e+07   \n",
       "25%          0.180000  2.459000e+06   59000.000000  2.020053e+07   \n",
       "50%          0.332000  2.459000e+06   59000.000000  2.020053e+07   \n",
       "75%          0.620000  2.459000e+06   59000.000000  2.020053e+07   \n",
       "max        140.000000  2.459000e+06   59000.000000  2.020053e+07   \n",
       "\n",
       "                   e              a  ...       sigma_q       sigma_i  \\\n",
       "count  958524.000000  958524.000000  ...  9.386020e+05  9.386020e+05   \n",
       "mean        0.156116       2.902143  ...  1.982929e+01  1.168449e+00   \n",
       "std         0.092643      39.719503  ...  2.903785e+03  1.282231e+02   \n",
       "min         0.000000  -14702.447872  ...  1.956900e-11  4.608900e-09   \n",
       "25%         0.092193       2.387835  ...  1.462000e-07  6.095900e-06   \n",
       "50%         0.145002       2.646969  ...  2.271900e-07  8.688800e-06   \n",
       "75%         0.200650       3.001932  ...  6.583200e-07  1.591500e-05   \n",
       "max         1.855356   33488.895955  ...  1.015000e+06  5.533000e+04   \n",
       "\n",
       "           sigma_om       sigma_w      sigma_ma      sigma_ad       sigma_n  \\\n",
       "count  9.386020e+05  9.386020e+05  9.386020e+05  9.385980e+05  9.386020e+05   \n",
       "mean   5.310234e+00  1.370062e+06  1.369977e+06  2.131453e+01  5.060221e-02   \n",
       "std    1.333381e+03  9.158996e+08  9.158991e+08  7.197034e+03  9.814953e+00   \n",
       "min    6.168800e-08  6.624800e-08  7.820700e-09  1.111300e-11  1.196500e-12   \n",
       "25%    3.619400e-05  5.755000e-05  2.573700e-05  2.340900e-08  2.768800e-09   \n",
       "50%    6.642550e-05  1.047100e-04  4.900100e-05  4.359000e-08  4.638000e-09   \n",
       "75%    1.609775e-04  3.114400e-04  1.718900e-04  1.196600e-07  1.124000e-08   \n",
       "max    1.199100e+06  8.845100e+11  8.845100e+11  5.509700e+06  7.698800e+03   \n",
       "\n",
       "           sigma_tp     sigma_per            rms  \n",
       "count  9.386020e+05  9.385980e+05  958522.000000  \n",
       "mean   4.312780e+08  8.525815e+04       0.561153  \n",
       "std    2.953046e+11  2.767681e+07       2.745700  \n",
       "min    3.782900e-08  9.415900e-09       0.000000  \n",
       "25%    1.110900e-04  1.794500e-05       0.518040  \n",
       "50%    2.230800e-04  3.501700e-05       0.566280  \n",
       "75%    8.139600e-04  9.775475e-05       0.613927  \n",
       "max    2.853100e+14  1.910700e+10    2686.600000  \n",
       "\n",
       "[8 rows x 35 columns]"
      ]
     },
     "execution_count": 6,
     "metadata": {},
     "output_type": "execute_result"
    }
   ],
   "source": [
    "asteroid_df.describe()"
   ]
  },
  {
   "cell_type": "code",
   "execution_count": null,
   "metadata": {},
   "outputs": [],
   "source": [
    "# asteroid_df.drop(asteroid_df[asteroid_df.neo == 'N' ].index, inplace = True)\n",
    "# asteroid_df = asteroid_df[asteroid_df.neo == 'Y' ]"
   ]
  },
  {
   "cell_type": "markdown",
   "metadata": {},
   "source": [
    "check for missing values"
   ]
  },
  {
   "cell_type": "code",
   "execution_count": 7,
   "metadata": {},
   "outputs": [
    {
     "data": {
      "text/plain": [
       "id                     0\n",
       "spkid                  0\n",
       "full_name              0\n",
       "pdes                   0\n",
       "name              936460\n",
       "prefix            958506\n",
       "neo                    4\n",
       "pha                19921\n",
       "H                   6263\n",
       "diameter          822315\n",
       "albedo            823421\n",
       "diameter_sigma    822443\n",
       "orbit_id               0\n",
       "epoch                  0\n",
       "epoch_mjd              0\n",
       "epoch_cal              0\n",
       "equinox                0\n",
       "e                      0\n",
       "a                      0\n",
       "q                      0\n",
       "i                      0\n",
       "om                     0\n",
       "w                      0\n",
       "ma                     1\n",
       "ad                     4\n",
       "n                      0\n",
       "tp                     0\n",
       "tp_cal                 0\n",
       "per                    4\n",
       "per_y                  1\n",
       "moid               19921\n",
       "moid_ld              127\n",
       "sigma_e            19922\n",
       "sigma_a            19922\n",
       "sigma_q            19922\n",
       "sigma_i            19922\n",
       "sigma_om           19922\n",
       "sigma_w            19922\n",
       "sigma_ma           19922\n",
       "sigma_ad           19926\n",
       "sigma_n            19922\n",
       "sigma_tp           19922\n",
       "sigma_per          19926\n",
       "class                  0\n",
       "rms                    2\n",
       "dtype: int64"
      ]
     },
     "execution_count": 7,
     "metadata": {},
     "output_type": "execute_result"
    }
   ],
   "source": [
    "asteroid_df.isnull().sum()\n",
    "# asteroid_df[asteroid_df['neo']=='N']['H'].isnull().sum()"
   ]
  },
  {
   "cell_type": "markdown",
   "metadata": {},
   "source": [
    "Columns name, prefix, diameter, albedo and diameter_sigma has lots of missing values, these can be removed."
   ]
  },
  {
   "cell_type": "code",
   "execution_count": 8,
   "metadata": {},
   "outputs": [],
   "source": [
    "asteroid_df.drop(['name', 'prefix', 'albedo', 'diameter', 'diameter_sigma'], axis = 1, inplace = True)"
   ]
  },
  {
   "cell_type": "code",
   "execution_count": null,
   "metadata": {},
   "outputs": [],
   "source": [
    "jovian.commit()"
   ]
  },
  {
   "cell_type": "markdown",
   "metadata": {},
   "source": [
    "## Exploratory Analysis and Visualization\n",
    "\n",
    "### We want to extract some information about Potentially Hazardous Asteroids \n"
   ]
  },
  {
   "cell_type": "markdown",
   "metadata": {},
   "source": [
    "Let's begin by importing`matplotlib.pyplot` and `seaborn`."
   ]
  },
  {
   "cell_type": "code",
   "execution_count": 9,
   "metadata": {},
   "outputs": [],
   "source": [
    "import seaborn as sns\n",
    "import matplotlib\n",
    "import matplotlib.pyplot as plt\n",
    "%matplotlib inline\n",
    "\n",
    "sns.set_style('darkgrid')\n",
    "matplotlib.rcParams['font.size'] = 14\n",
    "matplotlib.rcParams['figure.figsize'] = (14,7)\n",
    "matplotlib.rcParams['figure.facecolor'] = '#00000000'"
   ]
  },
  {
   "cell_type": "markdown",
   "metadata": {},
   "source": [
    "#### Q1: What percentage of asteroids are near earth objects"
   ]
  },
  {
   "cell_type": "code",
   "execution_count": 10,
   "metadata": {},
   "outputs": [
    {
     "data": {
      "text/plain": [
       "N    97.611422\n",
       "Y     2.388578\n",
       "Name: neo, dtype: float64"
      ]
     },
     "execution_count": 10,
     "metadata": {},
     "output_type": "execute_result"
    }
   ],
   "source": [
    "asteroid_df['neo'].value_counts(normalize = True)*100\n"
   ]
  },
  {
   "cell_type": "markdown",
   "metadata": {},
   "source": [
    "Almost 2.4 percent of asteroids are near earth objects"
   ]
  },
  {
   "cell_type": "markdown",
   "metadata": {},
   "source": [
    "#### Q2: How many of Near earth objects are potentially Hazerdous"
   ]
  },
  {
   "cell_type": "code",
   "execution_count": 11,
   "metadata": {},
   "outputs": [
    {
     "data": {
      "text/plain": [
       "Text(0, 0.5, 'Percentage of PHA')"
      ]
     },
     "execution_count": 11,
     "metadata": {},
     "output_type": "execute_result"
    },
    {
     "data": {
      "image/png": "[encoded data removed]",
      "text/plain": [
       "<Figure size 1008x504 with 1 Axes>"
      ]
     },
     "metadata": {
      "needs_background": "light"
     },
     "output_type": "display_data"
    }
   ],
   "source": [
    "\n",
    "\n",
    "#What percentage of near earth objects are potentially harzardeous\n",
    "\n",
    "percent = asteroid_df[asteroid_df['neo'] == 'Y']['pha'].value_counts(normalize = True)*100\n",
    "\n",
    "a = sns.barplot(x = percent.index , y = percent)\n",
    "plt.yticks(range(0, 91, 5))\n",
    "plt.xlabel('Potential hazerdous Asteroids (PHA) Near Earth')\n",
    "plt.ylabel('Percentage of PHA')"
   ]
  },
  {
   "cell_type": "markdown",
   "metadata": {},
   "source": [
    "Looking at the above graph, we can conclude that only **9%** of the near earth objects are hazardous."
   ]
  },
  {
   "cell_type": "code",
   "execution_count": 12,
   "metadata": {},
   "outputs": [
    {
     "data": {
      "text/plain": [
       "MBA    855954\n",
       "OMB     28355\n",
       "IMB     20360\n",
       "MCA     18685\n",
       "APO     12687\n",
       "AMO      8457\n",
       "TJN      8221\n",
       "TNO      3468\n",
       "ATE      1729\n",
       "CEN       506\n",
       "AST        76\n",
       "IEO        22\n",
       "HYA         4\n",
       "Name: class, dtype: int64"
      ]
     },
     "execution_count": 12,
     "metadata": {},
     "output_type": "execute_result"
    }
   ],
   "source": [
    "asteroid_df['class'].value_counts()"
   ]
  },
  {
   "cell_type": "markdown",
   "metadata": {},
   "source": [
    "#### Q3. Potentially hazardeous asteroids belongs to what orbit classes?"
   ]
  },
  {
   "cell_type": "code",
   "execution_count": 13,
   "metadata": {},
   "outputs": [
    {
     "name": "stdout",
     "output_type": "stream",
     "text": [
      "APO    85.575992\n",
      "ATE     8.422072\n",
      "AMO     5.711520\n",
      "IEO     0.290416\n",
      "Name: class, dtype: float64\n"
     ]
    },
    {
     "data": {
      "text/plain": [
       "Text(0.5, 1.0, 'Percentage of Orbital classes to which hazerdous asteroids belong')"
      ]
     },
     "execution_count": 13,
     "metadata": {},
     "output_type": "execute_result"
    },
    {
     "data": {
      "image/png": "[encoded data removed]",
      "text/plain": [
       "<Figure size 1008x504 with 1 Axes>"
      ]
     },
     "metadata": {
      "needs_background": "light"
     },
     "output_type": "display_data"
    }
   ],
   "source": [
    "percent2 = asteroid_df[asteroid_df['pha']== 'Y']['class'].value_counts(normalize= True)*100\n",
    "print(percent2)\n",
    "sns.barplot(x = percent2.index, y = percent2)\n",
    "plt.xlabel('Orbital Classes')\n",
    "plt.ylabel('Percentage')\n",
    "plt.title('Percentage of Orbital classes to which hazerdous asteroids belong')"
   ]
  },
  {
   "cell_type": "markdown",
   "metadata": {},
   "source": [
    "Most of the Potentially harzerdous asteroids (>85%) belongs to the **APO** class"
   ]
  },
  {
   "cell_type": "markdown",
   "metadata": {},
   "source": [
    "#### Q4: what is the average absolute magnitude parameter of potentially hazardeous asteroids per class"
   ]
  },
  {
   "cell_type": "code",
   "execution_count": 14,
   "metadata": {},
   "outputs": [
    {
     "data": {
      "text/plain": [
       "<AxesSubplot:xlabel='class', ylabel='H'>"
      ]
     },
     "execution_count": 14,
     "metadata": {},
     "output_type": "execute_result"
    },
    {
     "data": {
      "image/png": "[encoded data removed]",
      "text/plain": [
       "<Figure size 1008x504 with 1 Axes>"
      ]
     },
     "metadata": {
      "needs_background": "light"
     },
     "output_type": "display_data"
    }
   ],
   "source": [
    "classes = asteroid_df[asteroid_df['pha']== 'Y']['class'].unique()\n",
    "abs_mag_df = asteroid_df.loc[(asteroid_df['class'].isin(classes)) & (asteroid_df['pha'] == 'Y')]\n",
    "h_mean = abs_mag_df.groupby('class')['H'].mean()\n",
    "sns.barplot(x = h_mean.index, y = h_mean)\n"
   ]
  },
  {
   "cell_type": "markdown",
   "metadata": {},
   "source": [
    "Average absolute magnitude parameter for potentially hazardeous asteroid in each class is approximatley 20"
   ]
  },
  {
   "cell_type": "markdown",
   "metadata": {},
   "source": [
    "#### Q5: what is the average absolute magnitude parameter of potentially hazardeous asteroids of all classes"
   ]
  },
  {
   "cell_type": "code",
   "execution_count": 15,
   "metadata": {},
   "outputs": [
    {
     "data": {
      "text/plain": [
       "<AxesSubplot:xlabel='H', ylabel='Density'>"
      ]
     },
     "execution_count": 15,
     "metadata": {},
     "output_type": "execute_result"
    },
    {
     "data": {
      "image/png": "[encoded data removed]",
      "text/plain": [
       "<Figure size 1008x504 with 1 Axes>"
      ]
     },
     "metadata": {
      "needs_background": "light"
     },
     "output_type": "display_data"
    }
   ],
   "source": [
    "sns.kdeplot(data = h_mean, shade = True)"
   ]
  },
  {
   "cell_type": "markdown",
   "metadata": {},
   "source": [
    "The average of absolute magnitude parameter(h) is around 20 for **potentially hazardeous asteroids**"
   ]
  },
  {
   "cell_type": "markdown",
   "metadata": {},
   "source": [
    "#### Q6: what is the average rms value of signal for Potentially hazardous asteroid"
   ]
  },
  {
   "cell_type": "code",
   "execution_count": 22,
   "metadata": {},
   "outputs": [
    {
     "name": "stderr",
     "output_type": "stream",
     "text": [
      "/opt/conda/lib/python3.7/site-packages/seaborn/distributions.py:2557: FutureWarning: `distplot` is a deprecated function and will be removed in a future version. Please adapt your code to use either `displot` (a figure-level function with similar flexibility) or `histplot` (an axes-level function for histograms).\n",
      "  warnings.warn(msg, FutureWarning)\n"
     ]
    },
    {
     "data": {
      "text/plain": [
       "<AxesSubplot:xlabel='rms', ylabel='Density'>"
      ]
     },
     "execution_count": 22,
     "metadata": {},
     "output_type": "execute_result"
    },
    {
     "data": {
      "image/png": "[encoded data removed]",
      "text/plain": [
       "<Figure size 1008x504 with 1 Axes>"
      ]
     },
     "metadata": {
      "needs_background": "light"
     },
     "output_type": "display_data"
    }
   ],
   "source": [
    "from sklearn import preprocessing\n",
    "\n",
    "\n",
    "\n",
    "numerical_cols = [colname for colname in asteroid_df.columns if asteroid_df[colname].dtype in ['int64', 'float64']]\n",
    "plot_df = asteroid_df[asteroid_df['pha']=='Y'][numerical_cols]\n",
    "\n",
    "# scaler = preprocessing.MinMaxScaler()\n",
    "# scaled_df = pd.DataFrame(scaler.fit_transform(plot_df), columns = plot_df.columns)\n",
    "\n",
    "sns.distplot(a = plot_df['rms'])\n"
   ]
  },
  {
   "cell_type": "raw",
   "metadata": {},
   "source": [
    "rms value of signal for Potentially hazardous asteroid lies between 0.25 and 0.75 with majority of values around 0.5"
   ]
  },
  {
   "cell_type": "code",
   "execution_count": null,
   "metadata": {},
   "outputs": [],
   "source": [
    "Let us save and upload our work to Jovian before continuing"
   ]
  },
  {
   "cell_type": "code",
   "execution_count": 23,
   "metadata": {},
   "outputs": [],
   "source": [
    "import jovian"
   ]
  },
  {
   "cell_type": "code",
   "execution_count": null,
   "metadata": {},
   "outputs": [
    {
     "data": {
      "application/javascript": [
       "window.require && require([\"base/js/namespace\"],function(Jupyter){Jupyter.notebook.save_checkpoint()})"
      ],
      "text/plain": [
       "<IPython.core.display.Javascript object>"
      ]
     },
     "metadata": {},
     "output_type": "display_data"
    },
    {
     "name": "stdout",
     "output_type": "stream",
     "text": [
      "[jovian] Attempting to save notebook..\u001b[0m\n",
      "[jovian] Detected Kaggle notebook...\u001b[0m\n",
      "[jovian] Uploading notebook to https://jovian.ai/manal-kaleem/zerotopandas-eda-asteroid-dataset\u001b[0m\n"
     ]
    },
    {
     "data": {
      "application/javascript": [
       "\n",
       "    require([\"base/js/namespace\"],function(Jupyter) {\n",
       "        var nbJson = JSON.stringify(Jupyter.notebook.toJSON());\n",
       "\n",
       "        console.log(\"[jovian] Extracted notebook JSON:\");\n",
       "        console.log(nbJson);\n",
       "\n",
       "        function jvnLog (data) {\n",
       "          console.log(\"Result from jovian.commit:\");\n",
       "          if (data.content.text) {\n",
       "              var result = JSON.parse(data.content.text.trim());\n",
       "              var msg = result['msg'];\n",
       "              var err = result['err'];\n",
       "              if (msg) {\n",
       "                  element.text(\"Committed successfully: \" + msg)\n",
       "              } else {\n",
       "                  alert(\"Notebook commit failed. Error: \" + (err || \"Unknown\"))\n",
       "              }\n",
       "          }\n",
       "          \n",
       "        };\n",
       "        \n",
       "        var pythonCode = `\n",
       "from contextlib import redirect_stdout, redirect_stderr\n",
       "from io import StringIO\n",
       "import json\n",
       " \n",
       "with open(\"zerotopandas-eda-asteroid-dataset.ipynb\", 'w') as f:\n",
       "    f.write(r\"\"\"${nbJson}\"\"\")\n",
       "\n",
       "jvn_update = StringIO()\n",
       "jvn_update_err = StringIO()\n",
       "with redirect_stdout(jvn_update), redirect_stderr(jvn_update_err):\n",
       "    from jovian import commit\n",
       "\n",
       "jvn_f_out = StringIO()\n",
       "jvn_f_err = StringIO()\n",
       "with redirect_stdout(jvn_f_out), redirect_stderr(jvn_f_err):\n",
       "    jvn_msg = jovian.commit(message=None, files=[], outputs=[], environment='auto', privacy='auto', filename='zerotopandas-eda-asteroid-dataset.ipynb', project='zerotopandas-eda-asteroid-dataset', new_project=None)\n",
       "\n",
       "print(json.dumps({'msg': jvn_msg, 'err': jvn_f_err.getvalue(), 'update': jvn_update.getvalue()}))\n",
       "        `;\n",
       "\n",
       "        console.log(\"Invoking jovian.commit\")\n",
       "        // console.log(pythonCode)\n",
       "\n",
       "        Jupyter.notebook.kernel.execute(pythonCode, { iopub: { output: jvnLog }});\n",
       "    });"
      ],
      "text/plain": [
       "<IPython.core.display.Javascript object>"
      ]
     },
     "metadata": {},
     "output_type": "display_data"
    }
   ],
   "source": [
    "jovian.commit()"
   ]
  },
  {
   "cell_type": "code",
   "execution_count": null,
   "metadata": {},
   "outputs": [],
   "source": []
  }
 ],
 "metadata": {
  "kernelspec": {
   "display_name": "Python 3",
   "language": "python",
   "name": "python3"
  },
  "language_info": {
   "codemirror_mode": {
    "name": "ipython",
    "version": 3
   },
   "file_extension": ".py",
   "mimetype": "text/x-python",
   "name": "python",
   "nbconvert_exporter": "python",
   "pygments_lexer": "ipython3",
   "version": "3.8.6"
  }
 },
 "nbformat": 4,
 "nbformat_minor": 4
}
